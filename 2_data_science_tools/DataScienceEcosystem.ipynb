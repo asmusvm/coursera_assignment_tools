{
 "cells": [
  {
   "cell_type": "markdown",
   "id": "4df2cc19-0e0c-4288-90d1-ef305608838c",
   "metadata": {},
   "source": [
    "# Data Science Tools and Ecosystem"
   ]
  },
  {
   "cell_type": "markdown",
   "id": "2d5afe15-ef36-428e-8bcb-195219da7ed9",
   "metadata": {},
   "source": [
    "In this notebook, Data Science Tools and Ecosystem are summarized."
   ]
  },
  {
   "cell_type": "markdown",
   "id": "881c476b-fd49-4312-befe-a9769e68faf2",
   "metadata": {},
   "source": [
    "E4:\n",
    "\n",
    "Some of the popular languages that Data Scientists use are:\n",
    "1. Python\n",
    "2. R\n",
    "2. Java\n",
    "1. Julia"
   ]
  },
  {
   "cell_type": "markdown",
   "id": "dbecdb24-5edf-44dc-bb2b-894a791f4105",
   "metadata": {},
   "source": [
    "E5:\n",
    "\n",
    "Some of the commonly used libraries used by Data Scientists include:\n",
    "1. Pandas\n",
    "2. Matplotlib\n",
    "3. Tensorflow\n",
    "4. scikit\n",
    "5. scipy\n",
    "6. seaborn"
   ]
  },
  {
   "cell_type": "markdown",
   "id": "93fa6c19-69d1-43ff-b553-8abac45e9aad",
   "metadata": {},
   "source": [
    "E6:\n",
    "\n",
    "Data Science Tools\n",
    "\n",
    "|Data Science Tools|\n",
    "|------------------|\n",
    "| Jupyter NBs      |\n",
    "| R |\n",
    "| Pandas |"
   ]
  },
  {
   "cell_type": "markdown",
   "id": "c968f625-98f6-497e-af25-6a7b0ec5566f",
   "metadata": {},
   "source": [
    "### Below are a few examples of evaluating arithmetic expressions in Python\n"
   ]
  },
  {
   "cell_type": "code",
   "execution_count": 1,
   "id": "9e059f3b-0344-45dc-93de-526b42e2edfc",
   "metadata": {
    "tags": []
   },
   "outputs": [
    {
     "data": {
      "text/plain": [
       "17"
      ]
     },
     "execution_count": 1,
     "metadata": {},
     "output_type": "execute_result"
    }
   ],
   "source": [
    "(3*4)+5"
   ]
  },
  {
   "cell_type": "code",
   "execution_count": 2,
   "id": "32db36ea-ff2f-44d8-9e1d-6bddbb1c3da3",
   "metadata": {
    "tags": []
   },
   "outputs": [
    {
     "data": {
      "text/plain": [
       "3.3333333333333335"
      ]
     },
     "execution_count": 2,
     "metadata": {},
     "output_type": "execute_result"
    }
   ],
   "source": [
    "200 / 60\n",
    "# This will convert 200 minutes to hours by diving by 60"
   ]
  },
  {
   "cell_type": "markdown",
   "id": "402cff5f-e6e8-4285-9647-393fbff92486",
   "metadata": {},
   "source": [
    "**Objectives:**\n",
    "- List popular languages for Data Science\n",
    "- Learn how to use Jupyter notebooks\n",
    "- Getting familiar with markdown syntax\n",
    "- Convert 200 mins into hours\n",
    "- Learn markdown table structure"
   ]
  },
  {
   "cell_type": "markdown",
   "id": "171252d4-a443-43fd-b7dc-a7f404b112ab",
   "metadata": {},
   "source": [
    "## Author\n",
    "Asmus von Münchow"
   ]
  },
  {
   "cell_type": "code",
   "execution_count": null,
   "id": "0eec43f2-bf6c-41bc-a799-a2bdc5626c75",
   "metadata": {},
   "outputs": [],
   "source": []
  },
  {
   "cell_type": "code",
   "execution_count": null,
   "id": "b18723d6-cf1b-44cf-b543-02da3dea0af9",
   "metadata": {},
   "outputs": [],
   "source": []
  }
 ],
 "metadata": {
  "kernelspec": {
   "display_name": "Python",
   "language": "python",
   "name": "conda-env-python-py"
  },
  "language_info": {
   "codemirror_mode": {
    "name": "ipython",
    "version": 3
   },
   "file_extension": ".py",
   "mimetype": "text/x-python",
   "name": "python",
   "nbconvert_exporter": "python",
   "pygments_lexer": "ipython3",
   "version": "3.7.12"
  }
 },
 "nbformat": 4,
 "nbformat_minor": 5
}
